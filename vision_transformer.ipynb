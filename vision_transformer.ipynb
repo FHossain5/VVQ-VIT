{
 "cells": [
  {
   "cell_type": "code",
   "execution_count": null,
   "metadata": {
    "colab": {
     "base_uri": "https://localhost:8080/"
    },
    "executionInfo": {
     "elapsed": 777399,
     "status": "ok",
     "timestamp": 1747860111857,
     "user": {
      "displayName": "Faria Hossain",
      "userId": "01917436187504471025"
     },
     "user_tz": -300
    },
    "id": "_3OpF1RxgPZu",
    "outputId": "d5554b15-3334-4baa-9e7e-b52b066c8c1d"
   },
   "outputs": [
    {
     "name": "stdout",
     "output_type": "stream",
     "text": [
      "Drive already mounted at /content/drive; to attempt to forcibly remount, call drive.mount(\"/content/drive\", force_remount=True).\n",
      "Train columns: ['Video', 'Frame', 'MOS']\n",
      "Val   columns: ['Video', 'Frame', 'MOS']\n"
     ]
    },
    {
     "name": "stderr",
     "output_type": "stream",
     "text": [
      "<ipython-input-10-31b5d24167d7>:113: FutureWarning: `torch.cuda.amp.GradScaler(args...)` is deprecated. Please use `torch.amp.GradScaler('cuda', args...)` instead.\n",
      "  scaler    = GradScaler()\n",
      "Epoch 1/20:   0%|          | 0/62 [00:00<?, ?it/s]<ipython-input-10-31b5d24167d7>:154: FutureWarning: `torch.cuda.amp.autocast(args...)` is deprecated. Please use `torch.amp.autocast('cuda', args...)` instead.\n",
      "  with autocast():\n",
      "Epoch 1/20: 100%|██████████| 62/62 [02:36<00:00,  2.52s/it]\n"
     ]
    },
    {
     "name": "stdout",
     "output_type": "stream",
     "text": [
      "\n",
      "Epoch 01 | Train RMSE: 3.8242 | Val RMSE:   2.5730 | Val R²:     -5.2608 | Pearson:    0.0577 | Spearman:   0.0112\n",
      "  ➤ New best R²=-5.2608; saved model to /content/drive/MyDrive/raw_work_donot_delete/frames_dataset/224_Frames_dynamic/best_vit_mos.pth\n"
     ]
    },
    {
     "name": "stderr",
     "output_type": "stream",
     "text": [
      "Epoch 2/20: 100%|██████████| 62/62 [00:18<00:00,  3.44it/s]\n"
     ]
    },
    {
     "name": "stdout",
     "output_type": "stream",
     "text": [
      "\n",
      "Epoch 02 | Train RMSE: 1.9502 | Val RMSE:   1.3409 | Val R²:     -0.7004 | Pearson:    0.1922 | Spearman:   0.1412\n",
      "  ➤ New best R²=-0.7004; saved model to /content/drive/MyDrive/raw_work_donot_delete/frames_dataset/224_Frames_dynamic/best_vit_mos.pth\n"
     ]
    },
    {
     "name": "stderr",
     "output_type": "stream",
     "text": [
      "Epoch 3/20: 100%|██████████| 62/62 [00:21<00:00,  2.93it/s]\n"
     ]
    },
    {
     "name": "stdout",
     "output_type": "stream",
     "text": [
      "\n",
      "Epoch 03 | Train RMSE: 1.3247 | Val RMSE:   1.0309 | Val R²:     -0.0050 | Pearson:    0.4307 | Spearman:   0.3359\n",
      "  ➤ New best R²=-0.0050; saved model to /content/drive/MyDrive/raw_work_donot_delete/frames_dataset/224_Frames_dynamic/best_vit_mos.pth\n"
     ]
    },
    {
     "name": "stderr",
     "output_type": "stream",
     "text": [
      "Epoch 4/20: 100%|██████████| 62/62 [00:21<00:00,  2.89it/s]\n"
     ]
    },
    {
     "name": "stdout",
     "output_type": "stream",
     "text": [
      "\n",
      "Epoch 04 | Train RMSE: 1.0922 | Val RMSE:   0.8734 | Val R²:     0.2787 | Pearson:    0.6040 | Spearman:   0.4295\n",
      "  ➤ New best R²=0.2787; saved model to /content/drive/MyDrive/raw_work_donot_delete/frames_dataset/224_Frames_dynamic/best_vit_mos.pth\n"
     ]
    },
    {
     "name": "stderr",
     "output_type": "stream",
     "text": [
      "Epoch 5/20: 100%|██████████| 62/62 [00:21<00:00,  2.90it/s]\n"
     ]
    },
    {
     "name": "stdout",
     "output_type": "stream",
     "text": [
      "\n",
      "Epoch 05 | Train RMSE: 0.6291 | Val RMSE:   0.3201 | Val R²:     0.9031 | Pearson:    0.9574 | Spearman:   0.4983\n",
      "  ➤ New best R²=0.9031; saved model to /content/drive/MyDrive/raw_work_donot_delete/frames_dataset/224_Frames_dynamic/best_vit_mos.pth\n"
     ]
    },
    {
     "name": "stderr",
     "output_type": "stream",
     "text": [
      "Epoch 6/20: 100%|██████████| 62/62 [00:25<00:00,  2.47it/s]\n"
     ]
    },
    {
     "name": "stdout",
     "output_type": "stream",
     "text": [
      "\n",
      "Epoch 06 | Train RMSE: 0.4403 | Val RMSE:   0.2737 | Val R²:     0.9291 | Pearson:    0.9727 | Spearman:   0.5122\n",
      "  ➤ New best R²=0.9291; saved model to /content/drive/MyDrive/raw_work_donot_delete/frames_dataset/224_Frames_dynamic/best_vit_mos.pth\n"
     ]
    },
    {
     "name": "stderr",
     "output_type": "stream",
     "text": [
      "Epoch 7/20: 100%|██████████| 62/62 [00:24<00:00,  2.52it/s]\n"
     ]
    },
    {
     "name": "stdout",
     "output_type": "stream",
     "text": [
      "\n",
      "Epoch 07 | Train RMSE: 0.3966 | Val RMSE:   0.2410 | Val R²:     0.9451 | Pearson:    0.9778 | Spearman:   0.5108\n",
      "  ➤ New best R²=0.9451; saved model to /content/drive/MyDrive/raw_work_donot_delete/frames_dataset/224_Frames_dynamic/best_vit_mos.pth\n"
     ]
    },
    {
     "name": "stderr",
     "output_type": "stream",
     "text": [
      "Epoch 8/20: 100%|██████████| 62/62 [00:24<00:00,  2.55it/s]\n"
     ]
    },
    {
     "name": "stdout",
     "output_type": "stream",
     "text": [
      "\n",
      "Epoch 08 | Train RMSE: 0.3841 | Val RMSE:   0.2350 | Val R²:     0.9478 | Pearson:    0.9800 | Spearman:   0.5155\n",
      "  ➤ New best R²=0.9478; saved model to /content/drive/MyDrive/raw_work_donot_delete/frames_dataset/224_Frames_dynamic/best_vit_mos.pth\n"
     ]
    },
    {
     "name": "stderr",
     "output_type": "stream",
     "text": [
      "Epoch 9/20: 100%|██████████| 62/62 [00:25<00:00,  2.47it/s]\n"
     ]
    },
    {
     "name": "stdout",
     "output_type": "stream",
     "text": [
      "\n",
      "Epoch 09 | Train RMSE: 0.3671 | Val RMSE:   0.2175 | Val R²:     0.9553 | Pearson:    0.9814 | Spearman:   0.5157\n",
      "  ➤ New best R²=0.9553; saved model to /content/drive/MyDrive/raw_work_donot_delete/frames_dataset/224_Frames_dynamic/best_vit_mos.pth\n"
     ]
    },
    {
     "name": "stderr",
     "output_type": "stream",
     "text": [
      "Epoch 10/20: 100%|██████████| 62/62 [00:25<00:00,  2.47it/s]\n"
     ]
    },
    {
     "name": "stdout",
     "output_type": "stream",
     "text": [
      "\n",
      "Epoch 10 | Train RMSE: 0.3647 | Val RMSE:   0.2168 | Val R²:     0.9556 | Pearson:    0.9816 | Spearman:   0.5165\n",
      "  ➤ New best R²=0.9556; saved model to /content/drive/MyDrive/raw_work_donot_delete/frames_dataset/224_Frames_dynamic/best_vit_mos.pth\n"
     ]
    },
    {
     "name": "stderr",
     "output_type": "stream",
     "text": [
      "Epoch 11/20: 100%|██████████| 62/62 [00:25<00:00,  2.45it/s]\n"
     ]
    },
    {
     "name": "stdout",
     "output_type": "stream",
     "text": [
      "\n",
      "Epoch 11 | Train RMSE: 0.3723 | Val RMSE:   0.2168 | Val R²:     0.9556 | Pearson:    0.9816 | Spearman:   0.5165\n"
     ]
    },
    {
     "name": "stderr",
     "output_type": "stream",
     "text": [
      "Epoch 12/20: 100%|██████████| 62/62 [00:20<00:00,  3.02it/s]\n"
     ]
    },
    {
     "name": "stdout",
     "output_type": "stream",
     "text": [
      "\n",
      "Epoch 12 | Train RMSE: 0.3640 | Val RMSE:   0.2171 | Val R²:     0.9554 | Pearson:    0.9816 | Spearman:   0.5164\n"
     ]
    },
    {
     "name": "stderr",
     "output_type": "stream",
     "text": [
      "Epoch 13/20: 100%|██████████| 62/62 [00:17<00:00,  3.45it/s]\n"
     ]
    },
    {
     "name": "stdout",
     "output_type": "stream",
     "text": [
      "\n",
      "Epoch 13 | Train RMSE: 0.3676 | Val RMSE:   0.2205 | Val R²:     0.9540 | Pearson:    0.9817 | Spearman:   0.5168\n"
     ]
    },
    {
     "name": "stderr",
     "output_type": "stream",
     "text": [
      "Epoch 14/20: 100%|██████████| 62/62 [00:17<00:00,  3.47it/s]\n"
     ]
    },
    {
     "name": "stdout",
     "output_type": "stream",
     "text": [
      "\n",
      "Epoch 14 | Train RMSE: 0.3684 | Val RMSE:   0.2171 | Val R²:     0.9554 | Pearson:    0.9818 | Spearman:   0.5167\n"
     ]
    },
    {
     "name": "stderr",
     "output_type": "stream",
     "text": [
      "Epoch 15/20: 100%|██████████| 62/62 [00:17<00:00,  3.51it/s]\n"
     ]
    },
    {
     "name": "stdout",
     "output_type": "stream",
     "text": [
      "\n",
      "Epoch 15 | Train RMSE: 0.3658 | Val RMSE:   0.2189 | Val R²:     0.9547 | Pearson:    0.9819 | Spearman:   0.5164\n",
      "\n",
      "No improvement in 5 epochs. Stopping early.\n",
      "\n",
      "Training complete. Best Val R² = 0.9556\n",
      "Best model path: /content/drive/MyDrive/raw_work_donot_delete/frames_dataset/224_Frames_dynamic/best_vit_mos.pth\n"
     ]
    }
   ],
   "source": [
    "!pip install -q timm\n",
    "\n",
    "import os\n",
    "from pathlib import Path\n",
    "import pandas as pd\n",
    "import numpy as np\n",
    "from PIL import Image\n",
    "from tqdm import tqdm\n",
    "\n",
    "import torch\n",
    "import torch.nn as nn\n",
    "import torch.optim as optim\n",
    "from torch.utils.data import Dataset, DataLoader\n",
    "from torchvision import transforms\n",
    "import timm\n",
    "from torch.cuda.amp import autocast, GradScaler\n",
    "from scipy.stats import pearsonr, spearmanr\n",
    "from collections import defaultdict\n",
    "\n",
    "# ─── 2. Mount Google Drive \n",
    "from google.colab import drive\n",
    "drive.mount('/content/drive')\n",
    "\n",
    "# ─── 3. Paths & CSV Loading\n",
    "DRIVE_ROOT = Path('/content/drive/MyDrive')\n",
    "MODEL_DIR  = DRIVE_ROOT / 'models'\n",
    "MODEL_DIR.mkdir(exist_ok=True)\n",
    "\n",
    "\n",
    "train_csv = DRIVE_ROOT / '/content/drive/MyDrive/raw_work_donot_delete/frames_dataset/224_Frames_dynamic/MOS_Files/train_df_dynamic.csv'\n",
    "val_csv   = DRIVE_ROOT / '/content/drive/MyDrive/raw_work_donot_delete/frames_dataset/224_Frames_dynamic/MOS_Files/val_df_dynamic.csv'\n",
    "\n",
    "train_df = pd.read_csv(train_csv)\n",
    "val_df   = pd.read_csv(val_csv)\n",
    "\n",
    "print('Train columns:', train_df.columns.tolist())\n",
    "print('Val   columns:',   val_df.columns.tolist())\n",
    "\n",
    "# ─── 4. Transforms & Dataset \n",
    "IMG_SIZE    = 224\n",
    "BATCH_SIZE  = 128\n",
    "NUM_WORKERS = 8\n",
    "\n",
    "train_tf = transforms.Compose([\n",
    "    transforms.Resize((IMG_SIZE, IMG_SIZE)),\n",
    "    transforms.RandomResizedCrop(IMG_SIZE, scale=(0.8,1.0)),\n",
    "    transforms.RandomHorizontalFlip(0.5),\n",
    "    transforms.ColorJitter(0.2,0.2,0.2,0.1),\n",
    "    transforms.ToTensor(),\n",
    "    transforms.Normalize(mean=(0.485,0.456,0.406),\n",
    "                         std=(0.229,0.224,0.225)),\n",
    "])\n",
    "\n",
    "val_tf = transforms.Compose([\n",
    "    transforms.Resize((IMG_SIZE, IMG_SIZE)),\n",
    "    transforms.ToTensor(),\n",
    "    transforms.Normalize(mean=(0.485,0.456,0.406),\n",
    "                         std=(0.229,0.224,0.225)),\n",
    "])\n",
    "\n",
    "class FrameDataset(Dataset):\n",
    "    def __init__(self, df, transform):\n",
    "        assert all(col in df.columns for col in ['Video','Frame','MOS']), \\\n",
    "            \"CSV must contain 'Video', 'Frame', and 'MOS' columns\"\n",
    "        self.recs = df.to_dict('records')\n",
    "        self.tf   = transform\n",
    "\n",
    "    def __len__(self):\n",
    "        return len(self.recs)\n",
    "\n",
    "    def __getitem__(self, idx):\n",
    "        r   = self.recs[idx]\n",
    "        img = Image.open(r['Frame']).convert('RGB')\n",
    "        x   = self.tf(img)\n",
    "        y   = torch.tensor(r['MOS'], dtype=torch.float32)\n",
    "        vid = r['Video']\n",
    "        return x, y, vid\n",
    "\n",
    "train_ds = FrameDataset(train_df, train_tf)\n",
    "val_ds   = FrameDataset(val_df,   val_tf)\n",
    "\n",
    "train_dl = DataLoader(train_ds, batch_size=BATCH_SIZE, shuffle=True,\n",
    "                      num_workers=NUM_WORKERS, pin_memory=True)\n",
    "val_dl   = DataLoader(val_ds,   batch_size=BATCH_SIZE, shuffle=False,\n",
    "                      num_workers=NUM_WORKERS, pin_memory=True)\n",
    "\n",
    "# ─── 5. Model & Optimizer Setup \n",
    "device = torch.device('cuda' if torch.cuda.is_available() else 'cpu')\n",
    "\n",
    "model = timm.create_model('vit_base_patch16_224', pretrained=True)\n",
    "in_feat = model.head.in_features\n",
    "model.head = nn.Sequential(\n",
    "    nn.LayerNorm(in_feat),\n",
    "    nn.Linear(in_feat, 512),\n",
    "    nn.GELU(),\n",
    "    nn.Dropout(0.3),\n",
    "    nn.Linear(512, 1)\n",
    ")\n",
    "model.to(device)\n",
    "\n",
    "# Separate param‐groups for freeze → unfreeze\n",
    "head_params     = list(model.head.parameters())\n",
    "backbone_params = [p for n,p in model.named_parameters() if not n.startswith('head.')]\n",
    "\n",
    "optimizer = optim.AdamW([\n",
    "    {'params': head_params,     'lr': 3e-5},\n",
    "    {'params': backbone_params, 'lr': 0    }\n",
    "], weight_decay=1e-2)\n",
    "\n",
    "scheduler = optim.lr_scheduler.CosineAnnealingLR(optimizer, T_max=10)\n",
    "scaler    = GradScaler()\n",
    "criterion = nn.MSELoss()\n",
    "\n",
    "MODEL_PATH = MODEL_DIR / '/content/drive/MyDrive/raw_work_donot_delete/frames_dataset/224_Frames_dynamic/best_vit_mos.pth'\n",
    "\n",
    "# ─── 6. Video‐Level Evaluation \n",
    "def evaluate_video_level(loader):\n",
    "    model.eval()\n",
    "    preds_by_vid, trues_by_vid = defaultdict(list), defaultdict(list)\n",
    "\n",
    "    with torch.no_grad():\n",
    "        for xb, yb, vids in loader:\n",
    "            xb, yb = xb.to(device), yb.to(device)\n",
    "            out = model(xb).squeeze(1).cpu().numpy()\n",
    "            true = yb.cpu().numpy()\n",
    "            for vid, p, t in zip(vids, out, true):\n",
    "                preds_by_vid[vid].append(p)\n",
    "                trues_by_vid[vid].append(t)\n",
    "\n",
    "    vp = np.array([np.mean(preds_by_vid[vid]) for vid in preds_by_vid])\n",
    "    vt = np.array([np.mean(trues_by_vid[vid]) for vid in trues_by_vid])\n",
    "\n",
    "    rmse = float(np.sqrt(((vp-vt)**2).mean()))\n",
    "    ss_res = ((vt-vp)**2).sum()\n",
    "    ss_tot = ((vt-vt.mean())**2).sum()\n",
    "    r2     = 1 - ss_res/ss_tot\n",
    "    pearson_corr, _  = pearsonr(vt, vp)\n",
    "    spearman_corr, _ = spearmanr(vt, vp)\n",
    "    return rmse, r2, pearson_corr, spearman_corr\n",
    "\n",
    "# ─── 7. Training Loop with Early Stopping \n",
    "best_r2, wait, patience = -1e9, 0, 5\n",
    "EPOCHS = 20\n",
    "\n",
    "for epoch in range(1, EPOCHS+1):\n",
    "    model.train()\n",
    "    running_loss = 0.0\n",
    "\n",
    "    for xb, yb, _ in tqdm(train_dl, desc=f\"Epoch {epoch}/{EPOCHS}\"):\n",
    "        xb, yb = xb.to(device), yb.to(device)\n",
    "        optimizer.zero_grad()\n",
    "        with autocast():\n",
    "            preds = model(xb).squeeze(1)\n",
    "            loss  = criterion(preds, yb)\n",
    "        scaler.scale(loss).backward()\n",
    "        scaler.step(optimizer)\n",
    "        scaler.update()\n",
    "        running_loss += loss.item() * xb.size(0)\n",
    "\n",
    "    scheduler.step()\n",
    "    train_rmse = np.sqrt(running_loss / len(train_ds))\n",
    "    val_rmse, val_r2, val_p, val_s = evaluate_video_level(val_dl)\n",
    "\n",
    "    print(\n",
    "        f\"\\nEpoch {epoch:02d} | \"\n",
    "        f\"Train RMSE: {train_rmse:.4f} | \"\n",
    "        f\"Val RMSE:   {val_rmse:.4f} | \"\n",
    "        f\"Val R²:     {val_r2:.4f} | \"\n",
    "        f\"Pearson:    {val_p:.4f} | \"\n",
    "        f\"Spearman:   {val_s:.4f}\"\n",
    "    )\n",
    "\n",
    "    # Gradual unfreeze\n",
    "    if epoch == 4:\n",
    "        optimizer.param_groups[1]['lr'] = 3e-6\n",
    "\n",
    "    # Early stopping on video‐level R²\n",
    "    if val_r2 > best_r2 + 1e-4:\n",
    "        best_r2, wait = val_r2, 0\n",
    "        torch.save(model.state_dict(), str(MODEL_PATH))\n",
    "        print(f\"  ➤ New best R²={best_r2:.4f}; saved model to {MODEL_PATH}\")\n",
    "    else:\n",
    "        wait += 1\n",
    "        if wait >= patience:\n",
    "            print(f\"\\nNo improvement in {patience} epochs. Stopping early.\")\n",
    "            break\n",
    "\n",
    "print(f\"\\nTraining complete. Best Val R² = {best_r2:.4f}\")\n",
    "print(f\"Best model path: {MODEL_PATH}\")"
   ]
  }
 ],
 "metadata": {
  "colab": {
   "authorship_tag": "ABX9TyMqU27Wgv+RoJ9AIsomgvMp",
   "mount_file_id": "1ZHC4cxndvQwIhPc8GagoCWD1xQswX--P",
   "provenance": []
  },
  "kernelspec": {
   "display_name": "Python 3",
   "name": "python3"
  },
  "language_info": {
   "name": "python"
  },
  "widgets": {
   "application/vnd.jupyter.widget-state+json": {
    "01fc4b9502d2481b8a65fd53e989f047": {
     "model_module": "@jupyter-widgets/controls",
     "model_module_version": "1.5.0",
     "model_name": "FloatProgressModel",
     "state": {
      "_dom_classes": [],
      "_model_module": "@jupyter-widgets/controls",
      "_model_module_version": "1.5.0",
      "_model_name": "FloatProgressModel",
      "_view_count": null,
      "_view_module": "@jupyter-widgets/controls",
      "_view_module_version": "1.5.0",
      "_view_name": "ProgressView",
      "bar_style": "success",
      "description": "",
      "description_tooltip": null,
      "layout": "IPY_MODEL_33338be2c0884d20820636b182927eaa",
      "max": 704,
      "min": 0,
      "orientation": "horizontal",
      "style": "IPY_MODEL_aff1114c3e3b4688a43573c300200ab8",
      "value": 704
     }
    },
    "2a61f57a89cf48c98c9dca6d6896d605": {
     "model_module": "@jupyter-widgets/base",
     "model_module_version": "1.2.0",
     "model_name": "LayoutModel",
     "state": {
      "_model_module": "@jupyter-widgets/base",
      "_model_module_version": "1.2.0",
      "_model_name": "LayoutModel",
      "_view_count": null,
      "_view_module": "@jupyter-widgets/base",
      "_view_module_version": "1.2.0",
      "_view_name": "LayoutView",
      "align_content": null,
      "align_items": null,
      "align_self": null,
      "border": null,
      "bottom": null,
      "display": null,
      "flex": null,
      "flex_flow": null,
      "grid_area": null,
      "grid_auto_columns": null,
      "grid_auto_flow": null,
      "grid_auto_rows": null,
      "grid_column": null,
      "grid_gap": null,
      "grid_row": null,
      "grid_template_areas": null,
      "grid_template_columns": null,
      "grid_template_rows": null,
      "height": null,
      "justify_content": null,
      "justify_items": null,
      "left": null,
      "margin": null,
      "max_height": null,
      "max_width": null,
      "min_height": null,
      "min_width": null,
      "object_fit": null,
      "object_position": null,
      "order": null,
      "overflow": null,
      "overflow_x": null,
      "overflow_y": null,
      "padding": null,
      "right": null,
      "top": null,
      "visibility": null,
      "width": null
     }
    },
    "33338be2c0884d20820636b182927eaa": {
     "model_module": "@jupyter-widgets/base",
     "model_module_version": "1.2.0",
     "model_name": "LayoutModel",
     "state": {
      "_model_module": "@jupyter-widgets/base",
      "_model_module_version": "1.2.0",
      "_model_name": "LayoutModel",
      "_view_count": null,
      "_view_module": "@jupyter-widgets/base",
      "_view_module_version": "1.2.0",
      "_view_name": "LayoutView",
      "align_content": null,
      "align_items": null,
      "align_self": null,
      "border": null,
      "bottom": null,
      "display": null,
      "flex": null,
      "flex_flow": null,
      "grid_area": null,
      "grid_auto_columns": null,
      "grid_auto_flow": null,
      "grid_auto_rows": null,
      "grid_column": null,
      "grid_gap": null,
      "grid_row": null,
      "grid_template_areas": null,
      "grid_template_columns": null,
      "grid_template_rows": null,
      "height": null,
      "justify_content": null,
      "justify_items": null,
      "left": null,
      "margin": null,
      "max_height": null,
      "max_width": null,
      "min_height": null,
      "min_width": null,
      "object_fit": null,
      "object_position": null,
      "order": null,
      "overflow": null,
      "overflow_x": null,
      "overflow_y": null,
      "padding": null,
      "right": null,
      "top": null,
      "visibility": null,
      "width": null
     }
    },
    "6463e654c17b435dafa7108b97f522ef": {
     "model_module": "@jupyter-widgets/controls",
     "model_module_version": "1.5.0",
     "model_name": "HTMLModel",
     "state": {
      "_dom_classes": [],
      "_model_module": "@jupyter-widgets/controls",
      "_model_module_version": "1.5.0",
      "_model_name": "HTMLModel",
      "_view_count": null,
      "_view_module": "@jupyter-widgets/controls",
      "_view_module_version": "1.5.0",
      "_view_name": "HTMLView",
      "description": "",
      "description_tooltip": null,
      "layout": "IPY_MODEL_f945f3ca967e427dadf109ca1ffb0902",
      "placeholder": "​",
      "style": "IPY_MODEL_bc71388a7c8d442a827ca5f09ee41ae4",
      "value": "100%"
     }
    },
    "701ff354f3ff48d1ab672d6d828c9549": {
     "model_module": "@jupyter-widgets/controls",
     "model_module_version": "1.5.0",
     "model_name": "DescriptionStyleModel",
     "state": {
      "_model_module": "@jupyter-widgets/controls",
      "_model_module_version": "1.5.0",
      "_model_name": "DescriptionStyleModel",
      "_view_count": null,
      "_view_module": "@jupyter-widgets/base",
      "_view_module_version": "1.2.0",
      "_view_name": "StyleView",
      "description_width": ""
     }
    },
    "8823cd1597314502b8850c13b23631f8": {
     "model_module": "@jupyter-widgets/controls",
     "model_module_version": "1.5.0",
     "model_name": "HBoxModel",
     "state": {
      "_dom_classes": [],
      "_model_module": "@jupyter-widgets/controls",
      "_model_module_version": "1.5.0",
      "_model_name": "HBoxModel",
      "_view_count": null,
      "_view_module": "@jupyter-widgets/controls",
      "_view_module_version": "1.5.0",
      "_view_name": "HBoxView",
      "box_style": "",
      "children": [
       "IPY_MODEL_6463e654c17b435dafa7108b97f522ef",
       "IPY_MODEL_01fc4b9502d2481b8a65fd53e989f047",
       "IPY_MODEL_be4f3071a7d44773bc279c08c4e4338b"
      ],
      "layout": "IPY_MODEL_2a61f57a89cf48c98c9dca6d6896d605"
     }
    },
    "aff1114c3e3b4688a43573c300200ab8": {
     "model_module": "@jupyter-widgets/controls",
     "model_module_version": "1.5.0",
     "model_name": "ProgressStyleModel",
     "state": {
      "_model_module": "@jupyter-widgets/controls",
      "_model_module_version": "1.5.0",
      "_model_name": "ProgressStyleModel",
      "_view_count": null,
      "_view_module": "@jupyter-widgets/base",
      "_view_module_version": "1.2.0",
      "_view_name": "StyleView",
      "bar_color": null,
      "description_width": ""
     }
    },
    "bc71388a7c8d442a827ca5f09ee41ae4": {
     "model_module": "@jupyter-widgets/controls",
     "model_module_version": "1.5.0",
     "model_name": "DescriptionStyleModel",
     "state": {
      "_model_module": "@jupyter-widgets/controls",
      "_model_module_version": "1.5.0",
      "_model_name": "DescriptionStyleModel",
      "_view_count": null,
      "_view_module": "@jupyter-widgets/base",
      "_view_module_version": "1.2.0",
      "_view_name": "StyleView",
      "description_width": ""
     }
    },
    "be4f3071a7d44773bc279c08c4e4338b": {
     "model_module": "@jupyter-widgets/controls",
     "model_module_version": "1.5.0",
     "model_name": "HTMLModel",
     "state": {
      "_dom_classes": [],
      "_model_module": "@jupyter-widgets/controls",
      "_model_module_version": "1.5.0",
      "_model_name": "HTMLModel",
      "_view_count": null,
      "_view_module": "@jupyter-widgets/controls",
      "_view_module_version": "1.5.0",
      "_view_name": "HTMLView",
      "description": "",
      "description_tooltip": null,
      "layout": "IPY_MODEL_f32b80ca984148d2b330a5f491202a38",
      "placeholder": "​",
      "style": "IPY_MODEL_701ff354f3ff48d1ab672d6d828c9549",
      "value": " 704/704 [00:20&lt;00:00, 38.08it/s]"
     }
    },
    "f32b80ca984148d2b330a5f491202a38": {
     "model_module": "@jupyter-widgets/base",
     "model_module_version": "1.2.0",
     "model_name": "LayoutModel",
     "state": {
      "_model_module": "@jupyter-widgets/base",
      "_model_module_version": "1.2.0",
      "_model_name": "LayoutModel",
      "_view_count": null,
      "_view_module": "@jupyter-widgets/base",
      "_view_module_version": "1.2.0",
      "_view_name": "LayoutView",
      "align_content": null,
      "align_items": null,
      "align_self": null,
      "border": null,
      "bottom": null,
      "display": null,
      "flex": null,
      "flex_flow": null,
      "grid_area": null,
      "grid_auto_columns": null,
      "grid_auto_flow": null,
      "grid_auto_rows": null,
      "grid_column": null,
      "grid_gap": null,
      "grid_row": null,
      "grid_template_areas": null,
      "grid_template_columns": null,
      "grid_template_rows": null,
      "height": null,
      "justify_content": null,
      "justify_items": null,
      "left": null,
      "margin": null,
      "max_height": null,
      "max_width": null,
      "min_height": null,
      "min_width": null,
      "object_fit": null,
      "object_position": null,
      "order": null,
      "overflow": null,
      "overflow_x": null,
      "overflow_y": null,
      "padding": null,
      "right": null,
      "top": null,
      "visibility": null,
      "width": null
     }
    },
    "f945f3ca967e427dadf109ca1ffb0902": {
     "model_module": "@jupyter-widgets/base",
     "model_module_version": "1.2.0",
     "model_name": "LayoutModel",
     "state": {
      "_model_module": "@jupyter-widgets/base",
      "_model_module_version": "1.2.0",
      "_model_name": "LayoutModel",
      "_view_count": null,
      "_view_module": "@jupyter-widgets/base",
      "_view_module_version": "1.2.0",
      "_view_name": "LayoutView",
      "align_content": null,
      "align_items": null,
      "align_self": null,
      "border": null,
      "bottom": null,
      "display": null,
      "flex": null,
      "flex_flow": null,
      "grid_area": null,
      "grid_auto_columns": null,
      "grid_auto_flow": null,
      "grid_auto_rows": null,
      "grid_column": null,
      "grid_gap": null,
      "grid_row": null,
      "grid_template_areas": null,
      "grid_template_columns": null,
      "grid_template_rows": null,
      "height": null,
      "justify_content": null,
      "justify_items": null,
      "left": null,
      "margin": null,
      "max_height": null,
      "max_width": null,
      "min_height": null,
      "min_width": null,
      "object_fit": null,
      "object_position": null,
      "order": null,
      "overflow": null,
      "overflow_x": null,
      "overflow_y": null,
      "padding": null,
      "right": null,
      "top": null,
      "visibility": null,
      "width": null
     }
    }
   }
  }
 },
 "nbformat": 4,
 "nbformat_minor": 0
}
